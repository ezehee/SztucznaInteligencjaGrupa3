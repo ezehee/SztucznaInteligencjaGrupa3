{
 "cells": [
  {
   "cell_type": "markdown",
   "metadata": {},
   "source": [
    "[lab2](https://drive.google.com/file/d/1uiras3KLbnL8s-nsLoxBYJMEEoejhWuJ/view)"
   ]
  },
  {
   "cell_type": "code",
   "execution_count": 4,
   "metadata": {},
   "outputs": [],
   "source": [
    "import numpy as np\n",
    "import pandas as pd\n",
    "import matplotlib.pyplot as plt\n",
    "from collections import deque\n",
    "import math"
   ]
  },
  {
   "cell_type": "markdown",
   "metadata": {},
   "source": [
    "Zapewne pamiętasz o odkurzaczu omówionym w [pierwszych dwóch wykładach](https://drive.google.com/file/d/1NrPKqnpIc1JBmXAK1CsjRdKHXk0CREM2/view).\n",
    "(i) Sformułuj problem jako problem przeszukiwania; tzn. musisz napisać stan\n",
    "początkowy, możliwe działania za pomocą funkcji Action(state), relację\n",
    "przejścia za pomocą funkcji Result(state, action) i stan celu. Proszę zobacz\n",
    "yć strona 9 wykładu 2. Zakładamy, że obie kwadraty A i B są brudne i\n",
    "agent znajduje się w kwadracie A. Zakładamy również, że agent ma trzy\n",
    "\n",
    "możliwe działania: ruszaj w lewo, ruszaj w prawo i ssać. (ii) Napisz pro-\n",
    "gram za pomocą algorytm ‘Breadth First Search, aby agent mógł odszukiwać\n",
    "\n",
    "brud we wszystkich możliwych lokalizacjach i wyczyścić go (tzn., znalezienie\n",
    "ścieżkę z węzła początkowego do węzła docelowego. Wystarczy, aby program\n",
    "wydrukował każdą sekwencję akcji na konsoli, i pokazał kiedy osiąga cel\n",
    "(czyli ścieżka z węzła początkowego do węzła docelowego)."
   ]
  },
  {
   "cell_type": "code",
   "execution_count": 5,
   "metadata": {},
   "outputs": [],
   "source": [
    "class VacuumCleaner:\n",
    "    def __init__(self):\n",
    "        self.initial_state = (0, ['dirty', 'dirty'])\n",
    "        self.goal_state = ['clean', 'clean']\n",
    "\n",
    "    def actions(self, state):\n",
    "        position, dirt_status = state\n",
    "        possible_actions = []\n",
    "        \n",
    "        if dirt_status[position] == 'dirty':\n",
    "            possible_actions.append('suck')\n",
    "        if position == 0:\n",
    "            possible_actions.append('move right')\n",
    "        elif position == 1:\n",
    "            possible_actions.append('move left')\n",
    "        \n",
    "        return possible_actions\n",
    "    \n",
    "    def result(self, state, action):\n",
    "        position, dirt_status = state\n",
    "        new_dirt_status = dirt_status[:]\n",
    "        \n",
    "        if action == 'suck':\n",
    "            new_dirt_status[position] = 'clean'\n",
    "        elif action == 'move right':\n",
    "            return (1, new_dirt_status)\n",
    "        elif action == 'move left':\n",
    "            return (0, new_dirt_status)\n",
    "    \n",
    "        return (position, new_dirt_status)\n",
    "    \n",
    "    def bfs(self):\n",
    "        queue = deque([(self.initial_state, [])])\n",
    "        visited = set()\n",
    "        \n",
    "        while queue:\n",
    "            state, path = queue.popleft()\n",
    "            state_hashable = (state[0], tuple(state[1]))\n",
    "            \n",
    "            if state[1] == self.goal_state:\n",
    "                # print(\"Solution found:\", path)\n",
    "                return path\n",
    "            \n",
    "            visited.add(state_hashable)\n",
    "            \n",
    "            for action in self.actions(state):\n",
    "                new_state = self.result(state, action)\n",
    "                new_state_hashable = (new_state[0], tuple(new_state[1]))\n",
    "                \n",
    "                if new_state_hashable not in visited:\n",
    "                    queue.append((new_state, path + [action]))\n",
    "        \n",
    "        print(\"No solution found\")\n",
    "        return None"
   ]
  },
  {
   "cell_type": "code",
   "execution_count": 6,
   "metadata": {},
   "outputs": [
    {
     "data": {
      "text/plain": [
       "['suck', 'move right', 'suck']"
      ]
     },
     "execution_count": 6,
     "metadata": {},
     "output_type": "execute_result"
    }
   ],
   "source": [
    "vacuum = VacuumCleaner()\n",
    "vacuum.bfs()"
   ]
  },
  {
   "cell_type": "markdown",
   "metadata": {},
   "source": [
    "Rozważ 8 zagadek ze stanem początkowym jako <br>\n",
    "[ ][1][3]<br>\n",
    "[4][2][5]<br>\n",
    "[7][8][6].<br>\n",
    "\n",
    "Stan docelowy to:<br> \n",
    "[1][2][3]<br>\n",
    "[4][5][6]<br>\n",
    "[7][8][ ]<br>"
   ]
  },
  {
   "cell_type": "markdown",
   "metadata": {},
   "source": [
    "(i) Opisz sformułowanie problemu jako problem przeszukiwania."
   ]
  },
  {
   "cell_type": "markdown",
   "metadata": {},
   "source": [
    "1. Stan początkowy: Układ kafelków z pustą komórką (np. [ ][1][3] [4][2][5] [7][8][6]).\n",
    "2. Stan docelowy: Uporządkowana wersja układanki (np. [1][2][3] [4][5][6] [7][8][ ]).\n",
    "3. Stan: Każda możliwa konfiguracja kafelków, w tym pozycja pustego miejsca.\n",
    "4. Działania: Przesuwanie kafelków na puste pole (w górę, w dół, w lewo lub w prawo).\n",
    "5. Cel: Osiągnięcie stanu docelowego.\n",
    "\n",
    "Problem rozwiązuje się poprzez przeszukiwanie przestrzeni stanów w celu znalezienia sekwencji ruchów prowadzących do rozwiązania."
   ]
  },
  {
   "cell_type": "markdown",
   "metadata": {},
   "source": [
    "(ii) Napisz program, używając przeszukiwania A∗\n",
    "\n",
    "[(Zobacz numer wykładu 3)](https://drive.google.com/file/d/1UDmFNgLoo5_PbGj05fuLRJHXcQYCQ6He/view). Uważamy, że każde krok kosztuje 1, a zatem koszty osiągnięcia stanu n\n",
    "z stanu początkowego (czyli g(n)) jest całkowita liczba kroków wymaganych\n",
    "do osiągnięcia stanu n. Możesz użyć funkcji heurystycznej, gdzie h(stan) =\n",
    "suma odległości bloku miasta (sum of city block distance). Wystarczy, aby program wydrukował każdą sekwencję akcji na konsoli, i pokazał kiedy osiąga cel.\n",
    "\n",
    "(Uwaga: W celu wykonania (ii) byłoby dobrze stworzyć drzewo gry z pow-\n",
    "iązaną wartością f(n) = g(n) + h(n) dla każdego węzła.)"
   ]
  },
  {
   "cell_type": "code",
   "execution_count": 7,
   "metadata": {},
   "outputs": [],
   "source": [
    "import heapq\n",
    "\n",
    "goal_state = ((1, 2, 3), (4, 5, 6), (7, 8, 0))\n",
    "\n",
    "def manhattan_distance(state):\n",
    "    distance = 0\n",
    "    for r in range(3):\n",
    "        for c in range(3):\n",
    "            value = state[r][c]\n",
    "            if value != 0: \n",
    "                goal_r, goal_c = divmod(value - 1, 3)\n",
    "                distance += abs(goal_r - r) + abs(goal_c - c)\n",
    "    return distance\n",
    "\n",
    "def is_goal_state(state):\n",
    "    return state == goal_state\n",
    "\n",
    "def get_neighbors(state):\n",
    "    neighbors = []\n",
    "    for r in range(3):\n",
    "        for c in range(3):\n",
    "            if state[r][c] == 0:\n",
    "                row, col = r, c\n",
    "                break\n",
    "\n",
    "    directions = [(-1, 0), (1, 0), (0, -1), (0, 1)]\n",
    "    \n",
    "    for dr, dc in directions:\n",
    "        new_row, new_col = row + dr, col + dc\n",
    "        if 0 <= new_row < 3 and 0 <= new_col < 3:\n",
    "            new_state = [list(row) for row in state] \n",
    "            new_state[row][col], new_state[new_row][new_col] = new_state[new_row][new_col], new_state[row][col]\n",
    "            neighbors.append(tuple(tuple(row) for row in new_state))\n",
    "    return neighbors\n",
    "\n",
    "def astar(start_state):\n",
    "    open_list = []\n",
    "    closed_list = set()\n",
    "    \n",
    "    start_h = manhattan_distance(start_state)\n",
    "    heapq.heappush(open_list, (start_h, 0, start_state, [])) \n",
    "\n",
    "    while open_list:\n",
    "        f, g, current_state, path = heapq.heappop(open_list)\n",
    "\n",
    "        if is_goal_state(current_state):\n",
    "            return path + [current_state]\n",
    "        \n",
    "        closed_list.add(current_state)\n",
    "\n",
    "        for neighbor in get_neighbors(current_state):\n",
    "            if neighbor not in closed_list:\n",
    "                h = manhattan_distance(neighbor)\n",
    "                heapq.heappush(open_list, (g + 1 + h, g + 1, neighbor, path + [current_state]))\n",
    "\n",
    "    return None "
   ]
  },
  {
   "cell_type": "code",
   "execution_count": 8,
   "metadata": {},
   "outputs": [
    {
     "name": "stdout",
     "output_type": "stream",
     "text": [
      "(0, 1, 3)\n",
      "(4, 2, 5)\n",
      "(7, 8, 6)\n",
      "\n",
      "(1, 0, 3)\n",
      "(4, 2, 5)\n",
      "(7, 8, 6)\n",
      "\n",
      "(1, 2, 3)\n",
      "(4, 0, 5)\n",
      "(7, 8, 6)\n",
      "\n",
      "(1, 2, 3)\n",
      "(4, 5, 0)\n",
      "(7, 8, 6)\n",
      "\n",
      "(1, 2, 3)\n",
      "(4, 5, 6)\n",
      "(7, 8, 0)\n",
      "\n"
     ]
    }
   ],
   "source": [
    "start_state = ((0, 1, 3), (4, 2, 5), (7, 8, 6))\n",
    "\n",
    "solution_path = astar(start_state)\n",
    "\n",
    "if solution_path:\n",
    "    for step in solution_path:\n",
    "        for row in step:\n",
    "            print(row)\n",
    "        print()\n",
    "else:\n",
    "    print(\"Brak rozwiązania\")"
   ]
  },
  {
   "cell_type": "markdown",
   "metadata": {},
   "source": [
    "Zapewne pamiętasz o Trywialnej grze rozważanej w wykładach [3](https://drive.google.com/file/d/1UDmFNgLoo5_PbGj05fuLRJHXcQYCQ6He/view) i [4](https://www.youtube.com/watch?v=xvFZjo5PgG0). Napisz\n",
    "program, aby znaleźć optymalną strategię dla MAX za pomocą algorytmu\n",
    "Maximin z przycinaniem [α, β] ([α, β]-prunning)."
   ]
  },
  {
   "cell_type": "code",
   "execution_count": 1,
   "metadata": {},
   "outputs": [
    {
     "name": "stdout",
     "output_type": "stream",
     "text": [
      "Optymalna wartość dla MAX: 6\n"
     ]
    }
   ],
   "source": [
    "import math\n",
    "\n",
    "def maximin_alpha_beta(node, depth, alpha, beta, maximizing_player, tree):\n",
    "    if node not in tree:\n",
    "        return node \n",
    "    \n",
    "    if maximizing_player:\n",
    "        max_eval = -math.inf\n",
    "        for child in tree[node]:\n",
    "            eval = maximin_alpha_beta(child, depth + 1, alpha, beta, False, tree)\n",
    "            max_eval = max(max_eval, eval)\n",
    "            alpha = max(alpha, eval)\n",
    "            if beta <= alpha:\n",
    "                break  \n",
    "        return max_eval\n",
    "    else:\n",
    "        min_eval = math.inf\n",
    "        for child in tree[node]:\n",
    "            eval = maximin_alpha_beta(child, depth + 1, alpha, beta, True, tree)\n",
    "            min_eval = min(min_eval, eval)\n",
    "            beta = min(beta, eval)\n",
    "            if beta <= alpha:\n",
    "                break  \n",
    "        return min_eval\n",
    "\n",
    "tree = {\n",
    "    'A': ['B', 'C', 'D'],\n",
    "    'B': [3, 12, 8],\n",
    "    'C': [2, 4, 6],\n",
    "    'D': [14, 5, 2]\n",
    "}\n",
    "\n",
    "\n",
    "optimal_value = maximin_alpha_beta('A', 0, -math.inf, math.inf, False, tree)\n",
    "print(\"Optymalna wartość dla MAX:\", optimal_value)\n"
   ]
  },
  {
   "cell_type": "code",
   "execution_count": null,
   "metadata": {},
   "outputs": [],
   "source": []
  }
 ],
 "metadata": {
  "kernelspec": {
   "display_name": ".venv",
   "language": "python",
   "name": "python3"
  },
  "language_info": {
   "codemirror_mode": {
    "name": "ipython",
    "version": 3
   },
   "file_extension": ".py",
   "mimetype": "text/x-python",
   "name": "python",
   "nbconvert_exporter": "python",
   "pygments_lexer": "ipython3",
   "version": "3.10.12"
  }
 },
 "nbformat": 4,
 "nbformat_minor": 2
}
