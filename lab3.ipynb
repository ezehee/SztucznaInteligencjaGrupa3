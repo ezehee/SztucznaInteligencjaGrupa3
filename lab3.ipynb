{
 "cells": [
  {
   "cell_type": "markdown",
   "id": "19f93798",
   "metadata": {},
   "source": [
    "CW1\n",
    "\n",
    "1."
   ]
  },
  {
   "cell_type": "code",
   "execution_count": 18,
   "id": "2c892689",
   "metadata": {},
   "outputs": [],
   "source": [
    "# Definicja zmiennych i ich domen\n",
    "variables = {\n",
    "    'X1': ['R', 'B', 'G'],\n",
    "    'X2': ['R'],\n",
    "    'X3': ['G']\n",
    "}\n",
    "\n",
    "# Ograniczenia: zmienne muszą mieć różne wartości\n",
    "def is_consistent(assignment, var, value):\n",
    "    for other_var, other_value in assignment.items():\n",
    "        if other_value == value:\n",
    "            return False\n",
    "    return True\n"
   ]
  },
  {
   "cell_type": "markdown",
   "id": "793923c6",
   "metadata": {},
   "source": [
    "2"
   ]
  },
  {
   "cell_type": "code",
   "execution_count": 19,
   "id": "0d713930",
   "metadata": {},
   "outputs": [
    {
     "name": "stdout",
     "output_type": "stream",
     "text": [
      "{'X2': 'R', 'X3': 'G', 'X1': 'B'}\n"
     ]
    }
   ],
   "source": [
    "# Definicja zmiennych i ich domen\n",
    "variables = {\n",
    "    'X1': ['R', 'B', 'G'],\n",
    "    'X2': ['R'],\n",
    "    'X3': ['G']\n",
    "}\n",
    "\n",
    "# Ograniczenie: różne wartości\n",
    "def is_consistent(assignment, var, value):\n",
    "    for other_var, other_value in assignment.items():\n",
    "        if other_value == value:\n",
    "            return False\n",
    "    return True\n",
    "\n",
    "# MRV - wybór zmiennej z najmniejszą dostępną liczbą wartości\n",
    "def select_unassigned_variable(variables, assignment):\n",
    "    unassigned = {var: domain for var, domain in variables.items() if var not in assignment}\n",
    "    return min(unassigned, key=lambda var: len(unassigned[var]))\n",
    "\n",
    "# Rozwiązanie CSP z użyciem MRV\n",
    "def backtrack(assignment):\n",
    "    if len(assignment) == len(variables):\n",
    "        return assignment\n",
    "\n",
    "    var = select_unassigned_variable(variables, assignment)\n",
    "\n",
    "    for value in variables[var]:\n",
    "        if is_consistent(assignment, var, value):\n",
    "            assignment[var] = value\n",
    "            result = backtrack(assignment)\n",
    "            if result:\n",
    "                return result\n",
    "            del assignment[var]\n",
    "\n",
    "    return None\n",
    "\n",
    "# Uruchomienie algorytmu\n",
    "solution = backtrack({})\n",
    "print(solution)\n"
   ]
  },
  {
   "cell_type": "markdown",
   "id": "cbdb3f76",
   "metadata": {},
   "source": [
    "3."
   ]
  },
  {
   "cell_type": "code",
   "execution_count": 20,
   "id": "6a496eea",
   "metadata": {},
   "outputs": [
    {
     "name": "stdout",
     "output_type": "stream",
     "text": [
      "{'X1': 'B', 'X2': 'R', 'X3': 'G'}\n"
     ]
    }
   ],
   "source": [
    "# Definicja zmiennych i ich domen\n",
    "variables = {\n",
    "    'X1': ['R', 'B', 'G'],\n",
    "    'X2': ['R'],\n",
    "    'X3': ['G']\n",
    "}\n",
    "\n",
    "# Ograniczenie: różne wartości\n",
    "def is_consistent(assignment, var, value):\n",
    "    for other_var, other_value in assignment.items():\n",
    "        if other_value == value:\n",
    "            return False\n",
    "    return True\n",
    "\n",
    "# Rozwiązanie CSP klasycznym backtrackingiem\n",
    "def backtrack(assignment):\n",
    "    if len(assignment) == len(variables):\n",
    "        return assignment\n",
    "\n",
    "    for var in variables:\n",
    "        if var not in assignment:\n",
    "            for value in variables[var]:\n",
    "                if is_consistent(assignment, var, value):\n",
    "                    assignment[var] = value\n",
    "                    result = backtrack(assignment)\n",
    "                    if result:\n",
    "                        return result\n",
    "                    del assignment[var]\n",
    "            return None\n",
    "\n",
    "# Uruchomienie algorytmu\n",
    "solution = backtrack({})\n",
    "print(solution)\n"
   ]
  }
 ],
 "metadata": {
  "kernelspec": {
   "display_name": "Python 3",
   "language": "python",
   "name": "python3"
  },
  "language_info": {
   "codemirror_mode": {
    "name": "ipython",
    "version": 3
   },
   "file_extension": ".py",
   "mimetype": "text/x-python",
   "name": "python",
   "nbconvert_exporter": "python",
   "pygments_lexer": "ipython3",
   "version": "3.13.2"
  }
 },
 "nbformat": 4,
 "nbformat_minor": 5
}
